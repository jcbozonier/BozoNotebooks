{
 "metadata": {
  "name": ""
 },
 "nbformat": 3,
 "nbformat_minor": 0,
 "worksheets": [
  {
   "cells": [
    {
     "cell_type": "code",
     "collapsed": false,
     "input": [
      "%load_ext rmagic"
     ],
     "language": "python",
     "metadata": {},
     "outputs": [],
     "prompt_number": 2
    },
    {
     "cell_type": "markdown",
     "metadata": {},
     "source": [
      "# Necessary Sample Sizes"
     ]
    },
    {
     "cell_type": "code",
     "collapsed": false,
     "input": [
      "%%R\n",
      "number_of_samples <- 3000\n",
      "control_conversion_rate <- 0.27\n",
      "variation_conversion_rate <- 0.3\n",
      "\n",
      "simulation_results <- mapply(function(x){\n",
      "    control <- factor(rbinom(number_of_samples, 1, variation_conversion_rate) == T)\n",
      "    results <- binom.test(length(control[control == T]), number_of_samples, control_conversion_rate)\n",
      "    .05 >= results[3]$p.value\n",
      "}, seq(0, 5000, by=1))\n",
      "\n",
      "percent_of_time_equivalent <- length(simulation_results[simulation_results==TRUE]) / length(simulation_results)\n",
      "print(percent_of_time_equivalent)"
     ],
     "language": "python",
     "metadata": {},
     "outputs": [
      {
       "metadata": {},
       "output_type": "display_data",
       "text": [
        "[1] 0.9496101\n"
       ]
      }
     ],
     "prompt_number": 7
    }
   ],
   "metadata": {}
  }
 ]
}